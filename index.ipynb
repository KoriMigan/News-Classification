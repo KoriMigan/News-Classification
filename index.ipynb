{
 "cells": [
  {
   "attachments": {},
   "cell_type": "markdown",
   "metadata": {},
   "source": [
    "# East African News Classification"
   ]
  },
  {
   "attachments": {},
   "cell_type": "markdown",
   "metadata": {},
   "source": [
    "## Business Understanding"
   ]
  },
  {
   "attachments": {},
   "cell_type": "markdown",
   "metadata": {},
   "source": [
    "### Business Overview"
   ]
  },
  {
   "attachments": {},
   "cell_type": "markdown",
   "metadata": {},
   "source": [
    "> The \"East African News Classification\" dataset presents an opportunity for news organizations in the region to automate and improve the accuracy of news categorization. Analyzing the dataset enables identification of emerging trends and provides valuable insights into East African news.\n"
   ]
  },
  {
   "attachments": {},
   "cell_type": "markdown",
   "metadata": {},
   "source": [
    "### Business Problem"
   ]
  },
  {
   "attachments": {},
   "cell_type": "markdown",
   "metadata": {},
   "source": [
    "* News outlets have been grappling with the time-consuming and error-prone manual process of categorizing news articles from East African nations. This inefficient approach hinders their ability to track media streams, understand cultural influences on press reporting, and provide tailored insights. \n",
    "* By implementing a machine learning text classification model, the news outlet can automate and improve the accuracy of categorization, enabling them to efficiently track information flows, identify emerging trends, and gain valuable insights into how culture shapes press reporting in the region. \n",
    "* This investment in a robust text classification model would streamline operations, ensure consistency, and enhance their reporting capabilities, ultimately allowing them to better serve their audience and remain competitive.\n"
   ]
  },
  {
   "attachments": {},
   "cell_type": "markdown",
   "metadata": {},
   "source": [
    "## Data Understanding"
   ]
  },
  {
   "attachments": {},
   "cell_type": "markdown",
   "metadata": {},
   "source": [
    "* For this project, we analysed an East African News Classification dataset which has 23268 rows 3 columns.\n",
    "* The three columns are {text}, {label} and {category}\n",
    "* We chose this Dataset because it offers critical insights into media streams across East Africa, allowing for tailored insights related to racial tensions and social shifts.\n",
    "\n",
    "\n"
   ]
  },
  {
   "attachments": {},
   "cell_type": "markdown",
   "metadata": {},
   "source": [
    "## Objectives"
   ]
  },
  {
   "attachments": {},
   "cell_type": "markdown",
   "metadata": {},
   "source": [
    "### General Objectives"
   ]
  },
  {
   "attachments": {},
   "cell_type": "markdown",
   "metadata": {},
   "source": [
    " - Ensure consistency and accuracy in news categorization.\n",
    " - Streamline the news outlet's operations by implementing a robust text classification model.\n",
    " - Improve the ability to track information flows in East African media streams.\n",
    " - Provide valuable insights into the impact of cultural factors on press reporting.\n",
    " - Better serve the news outlet's audience by delivering relevant and timely news content.\n",
    "\n",
    "\n"
   ]
  },
  {
   "attachments": {},
   "cell_type": "markdown",
   "metadata": {},
   "source": [
    "### Specific Objectives"
   ]
  },
  {
   "attachments": {},
   "cell_type": "markdown",
   "metadata": {},
   "source": [
    " - To develop a machine learning model that can accurately classify East African news articles into relevant categories or topics.\n",
    " - To provide a user-friendly application that integrates with existing news platforms or search engines, enabling easy adoption and integration for news organizations and content providers.\n",
    " - To enhance the news consumption experience for readers by providing personalized and tailored access to relevant news articles.\n"
   ]
  },
  {
   "attachments": {},
   "cell_type": "markdown",
   "metadata": {},
   "source": [
    "### Success Metrics"
   ]
  },
  {
   "attachments": {},
   "cell_type": "markdown",
   "metadata": {},
   "source": [
    " - The overall metric used for this project is accuracy, to measure the correctly classified instances. Benchmark is 75%.\n"
   ]
  },
  {
   "attachments": {},
   "cell_type": "markdown",
   "metadata": {},
   "source": [
    "## Data Preparation"
   ]
  },
  {
   "attachments": {},
   "cell_type": "markdown",
   "metadata": {},
   "source": []
  },
  {
   "attachments": {},
   "cell_type": "markdown",
   "metadata": {},
   "source": [
    "## Modeling"
   ]
  },
  {
   "attachments": {},
   "cell_type": "markdown",
   "metadata": {},
   "source": []
  },
  {
   "attachments": {},
   "cell_type": "markdown",
   "metadata": {},
   "source": []
  },
  {
   "attachments": {},
   "cell_type": "markdown",
   "metadata": {},
   "source": [
    "## Evaluation"
   ]
  },
  {
   "attachments": {},
   "cell_type": "markdown",
   "metadata": {},
   "source": []
  },
  {
   "attachments": {},
   "cell_type": "markdown",
   "metadata": {},
   "source": [
    "## Deployment"
   ]
  },
  {
   "attachments": {},
   "cell_type": "markdown",
   "metadata": {},
   "source": []
  },
  {
   "attachments": {},
   "cell_type": "markdown",
   "metadata": {},
   "source": [
    "## Importing Necessary Libraries"
   ]
  },
  {
   "attachments": {},
   "cell_type": "markdown",
   "metadata": {},
   "source": [
    "Let's start by importing the relevant libraries"
   ]
  },
  {
   "cell_type": "code",
   "execution_count": 38,
   "metadata": {},
   "outputs": [
    {
     "name": "stderr",
     "output_type": "stream",
     "text": [
      "[nltk_data] Downloading package punkt to /Users/gitahi/nltk_data...\n",
      "[nltk_data]   Package punkt is already up-to-date!\n"
     ]
    }
   ],
   "source": [
    "import pandas as pd\n",
    "import nltk\n",
    "import numpy as np\n",
    "import matplotlib.pyplot as plt\n",
    "import seaborn as sns\n",
    "from pandas_profiling import ProfileReport\n",
    "from nltk.corpus import stopwords\n",
    "from nltk.tokenize import word_tokenize\n",
    "from nltk.stem import WordNetLemmatizer\n",
    "from wordcloud import WordCloud\n",
    "from nltk.tokenize import RegexpTokenizer\n",
    "nltk.download('punkt')\n",
    "import nltk\n",
    "import re\n",
    "import string\n",
    "from bs4 import BeautifulSoup\n",
    "import requests"
   ]
  },
  {
   "cell_type": "code",
   "execution_count": 39,
   "metadata": {},
   "outputs": [
    {
     "data": {
      "text/html": [
       "<div>\n",
       "<style scoped>\n",
       "    .dataframe tbody tr th:only-of-type {\n",
       "        vertical-align: middle;\n",
       "    }\n",
       "\n",
       "    .dataframe tbody tr th {\n",
       "        vertical-align: top;\n",
       "    }\n",
       "\n",
       "    .dataframe thead th {\n",
       "        text-align: right;\n",
       "    }\n",
       "</style>\n",
       "<table border=\"1\" class=\"dataframe\">\n",
       "  <thead>\n",
       "    <tr style=\"text-align: right;\">\n",
       "      <th></th>\n",
       "      <th>text</th>\n",
       "      <th>label</th>\n",
       "    </tr>\n",
       "  </thead>\n",
       "  <tbody>\n",
       "    <tr>\n",
       "      <th>0</th>\n",
       "      <td>Bodi ya Utalii Tanzania (TTB) imesema, itafan...</td>\n",
       "      <td>uchumi</td>\n",
       "    </tr>\n",
       "    <tr>\n",
       "      <th>1</th>\n",
       "      <td>PENDO FUNDISHA-MBEYA RAIS Dk. John Magufuri, ...</td>\n",
       "      <td>kitaifa</td>\n",
       "    </tr>\n",
       "    <tr>\n",
       "      <th>2</th>\n",
       "      <td>Mwandishi Wetu -Singida BENKI ya NMB imetoa ms...</td>\n",
       "      <td>uchumi</td>\n",
       "    </tr>\n",
       "    <tr>\n",
       "      <th>3</th>\n",
       "      <td>TIMU ya taifa ya Tanzania, Serengeti Boys jan...</td>\n",
       "      <td>michezo</td>\n",
       "    </tr>\n",
       "    <tr>\n",
       "      <th>4</th>\n",
       "      <td>Na AGATHA CHARLES – DAR ES SALAAM ALIYEKUWA K...</td>\n",
       "      <td>kitaifa</td>\n",
       "    </tr>\n",
       "  </tbody>\n",
       "</table>\n",
       "</div>"
      ],
      "text/plain": [
       "                                                text    label\n",
       "0   Bodi ya Utalii Tanzania (TTB) imesema, itafan...   uchumi\n",
       "1   PENDO FUNDISHA-MBEYA RAIS Dk. John Magufuri, ...  kitaifa\n",
       "2  Mwandishi Wetu -Singida BENKI ya NMB imetoa ms...   uchumi\n",
       "3   TIMU ya taifa ya Tanzania, Serengeti Boys jan...  michezo\n",
       "4   Na AGATHA CHARLES – DAR ES SALAAM ALIYEKUWA K...  kitaifa"
      ]
     },
     "execution_count": 39,
     "metadata": {},
     "output_type": "execute_result"
    }
   ],
   "source": [
    "# Checking the first five rows of the dataset\n",
    "df = pd.read_csv('data/train_v0.2.csv')\n",
    "df.head()"
   ]
  },
  {
   "attachments": {},
   "cell_type": "markdown",
   "metadata": {},
   "source": []
  },
  {
   "cell_type": "code",
   "execution_count": 40,
   "metadata": {},
   "outputs": [
    {
     "data": {
      "text/html": [
       "<div>\n",
       "<style scoped>\n",
       "    .dataframe tbody tr th:only-of-type {\n",
       "        vertical-align: middle;\n",
       "    }\n",
       "\n",
       "    .dataframe tbody tr th {\n",
       "        vertical-align: top;\n",
       "    }\n",
       "\n",
       "    .dataframe thead th {\n",
       "        text-align: right;\n",
       "    }\n",
       "</style>\n",
       "<table border=\"1\" class=\"dataframe\">\n",
       "  <thead>\n",
       "    <tr style=\"text-align: right;\">\n",
       "      <th></th>\n",
       "      <th>text</th>\n",
       "      <th>label</th>\n",
       "    </tr>\n",
       "  </thead>\n",
       "  <tbody>\n",
       "    <tr>\n",
       "      <th>0</th>\n",
       "      <td>WAPENZI wa sanaa na burudani Mlima Kenya na ko...</td>\n",
       "      <td>burudani</td>\n",
       "    </tr>\n",
       "    <tr>\n",
       "      <th>1</th>\n",
       "      <td>ISHU ya Stivo Simple Boy na The Sailors imenia...</td>\n",
       "      <td>burudani</td>\n",
       "    </tr>\n",
       "    <tr>\n",
       "      <th>2</th>\n",
       "      <td>MWIMBAJI Esther Akoth almaarufu Akothee amelal...</td>\n",
       "      <td>burudani</td>\n",
       "    </tr>\n",
       "    <tr>\n",
       "      <th>3</th>\n",
       "      <td>MWANABAHARI Betty Kyalo ameshikilia kuwa bado ...</td>\n",
       "      <td>burudani</td>\n",
       "    </tr>\n",
       "    <tr>\n",
       "      <th>4</th>\n",
       "      <td>MWANAMUZIKI Richell Bonner almaarufu Richie Sp...</td>\n",
       "      <td>burudani</td>\n",
       "    </tr>\n",
       "  </tbody>\n",
       "</table>\n",
       "</div>"
      ],
      "text/plain": [
       "                                                text     label\n",
       "0  WAPENZI wa sanaa na burudani Mlima Kenya na ko...  burudani\n",
       "1  ISHU ya Stivo Simple Boy na The Sailors imenia...  burudani\n",
       "2  MWIMBAJI Esther Akoth almaarufu Akothee amelal...  burudani\n",
       "3  MWANABAHARI Betty Kyalo ameshikilia kuwa bado ...  burudani\n",
       "4  MWANAMUZIKI Richell Bonner almaarufu Richie Sp...  burudani"
      ]
     },
     "execution_count": 40,
     "metadata": {},
     "output_type": "execute_result"
    }
   ],
   "source": [
    "# Checking the first five rows of the dataset\n",
    "scraped_data = pd.read_csv('data/scraped_data.csv')\n",
    "scraped_data.head()"
   ]
  },
  {
   "attachments": {},
   "cell_type": "markdown",
   "metadata": {},
   "source": []
  },
  {
   "cell_type": "code",
   "execution_count": 41,
   "metadata": {},
   "outputs": [],
   "source": [
    "df = pd.concat([df,scraped_data],axis=0)"
   ]
  },
  {
   "cell_type": "code",
   "execution_count": 42,
   "metadata": {},
   "outputs": [],
   "source": [
    "#profile = ProfileReport(df)\n"
   ]
  },
  {
   "cell_type": "code",
   "execution_count": 43,
   "metadata": {},
   "outputs": [],
   "source": [
    "#profile.to_widgets()"
   ]
  },
  {
   "attachments": {},
   "cell_type": "markdown",
   "metadata": {},
   "source": [
    "# Data Cleaning"
   ]
  },
  {
   "attachments": {},
   "cell_type": "markdown",
   "metadata": {},
   "source": [
    "## Missing Values"
   ]
  },
  {
   "attachments": {},
   "cell_type": "markdown",
   "metadata": {},
   "source": [
    "Let's check for missing values\n"
   ]
  },
  {
   "cell_type": "code",
   "execution_count": 44,
   "metadata": {},
   "outputs": [
    {
     "name": "stdout",
     "output_type": "stream",
     "text": [
      "Missing values found:\n",
      "text     1\n",
      "label    0\n",
      "dtype: int64\n"
     ]
    }
   ],
   "source": [
    "# Function to check for missing values\n",
    "def check_missing_values(data):\n",
    "    missing_values = df.isnull().sum()\n",
    "    if missing_values.any():\n",
    "        print(\"Missing values found:\")\n",
    "        print(missing_values)\n",
    "    else:\n",
    "        print(\"No missing values found.\")\n",
    "\n",
    "# Check for\n",
    "check_missing_values(df)"
   ]
  },
  {
   "attachments": {},
   "cell_type": "markdown",
   "metadata": {},
   "source": [
    "Here we found missing values so we shall drop them"
   ]
  },
  {
   "cell_type": "code",
   "execution_count": 45,
   "metadata": {},
   "outputs": [
    {
     "name": "stdout",
     "output_type": "stream",
     "text": [
      "No missing values found.\n"
     ]
    }
   ],
   "source": [
    "# Drop row with missing value\n",
    "df.dropna(axis=0, inplace=True)\n",
    "\n",
    "# Confirm missing rows dropped\n",
    "check_missing_values(df)"
   ]
  },
  {
   "attachments": {},
   "cell_type": "markdown",
   "metadata": {},
   "source": [
    "## Duplicate Values"
   ]
  },
  {
   "attachments": {},
   "cell_type": "markdown",
   "metadata": {},
   "source": [
    "Let's check for duplicates in the  dataset"
   ]
  },
  {
   "cell_type": "code",
   "execution_count": 46,
   "metadata": {},
   "outputs": [
    {
     "name": "stdout",
     "output_type": "stream",
     "text": [
      "Duplicate rows found:\n",
      "                                                 text label\n",
      "39  \\n[email protected]\\nMdalasini\\nMDALASINI ni k...  afya\n"
     ]
    }
   ],
   "source": [
    "# Function to check for duplicates\n",
    "def check_duplicates(df):\n",
    "    duplicates = df.duplicated()\n",
    "    if duplicates.any():\n",
    "        print(\"Duplicate rows found:\")\n",
    "        print(df[duplicates])\n",
    "    else:\n",
    "        print(\"No duplicate rows found.\")\n",
    "\n",
    "check_duplicates(df)"
   ]
  },
  {
   "attachments": {},
   "cell_type": "markdown",
   "metadata": {},
   "source": [
    "Lets transform the data to lowercase"
   ]
  },
  {
   "cell_type": "code",
   "execution_count": 47,
   "metadata": {},
   "outputs": [
    {
     "data": {
      "text/html": [
       "<div>\n",
       "<style scoped>\n",
       "    .dataframe tbody tr th:only-of-type {\n",
       "        vertical-align: middle;\n",
       "    }\n",
       "\n",
       "    .dataframe tbody tr th {\n",
       "        vertical-align: top;\n",
       "    }\n",
       "\n",
       "    .dataframe thead th {\n",
       "        text-align: right;\n",
       "    }\n",
       "</style>\n",
       "<table border=\"1\" class=\"dataframe\">\n",
       "  <thead>\n",
       "    <tr style=\"text-align: right;\">\n",
       "      <th></th>\n",
       "      <th>text</th>\n",
       "      <th>label</th>\n",
       "    </tr>\n",
       "  </thead>\n",
       "  <tbody>\n",
       "    <tr>\n",
       "      <th>0</th>\n",
       "      <td>bodi ya utalii tanzania (ttb) imesema, itafan...</td>\n",
       "      <td>uchumi</td>\n",
       "    </tr>\n",
       "    <tr>\n",
       "      <th>1</th>\n",
       "      <td>pendo fundisha-mbeya rais dk. john magufuri, ...</td>\n",
       "      <td>kitaifa</td>\n",
       "    </tr>\n",
       "    <tr>\n",
       "      <th>2</th>\n",
       "      <td>mwandishi wetu -singida benki ya nmb imetoa ms...</td>\n",
       "      <td>uchumi</td>\n",
       "    </tr>\n",
       "    <tr>\n",
       "      <th>3</th>\n",
       "      <td>timu ya taifa ya tanzania, serengeti boys jan...</td>\n",
       "      <td>michezo</td>\n",
       "    </tr>\n",
       "    <tr>\n",
       "      <th>4</th>\n",
       "      <td>na agatha charles – dar es salaam aliyekuwa k...</td>\n",
       "      <td>kitaifa</td>\n",
       "    </tr>\n",
       "  </tbody>\n",
       "</table>\n",
       "</div>"
      ],
      "text/plain": [
       "                                                text    label\n",
       "0   bodi ya utalii tanzania (ttb) imesema, itafan...   uchumi\n",
       "1   pendo fundisha-mbeya rais dk. john magufuri, ...  kitaifa\n",
       "2  mwandishi wetu -singida benki ya nmb imetoa ms...   uchumi\n",
       "3   timu ya taifa ya tanzania, serengeti boys jan...  michezo\n",
       "4   na agatha charles – dar es salaam aliyekuwa k...  kitaifa"
      ]
     },
     "execution_count": 47,
     "metadata": {},
     "output_type": "execute_result"
    }
   ],
   "source": [
    "# Transform text to lowercase\n",
    "df[\"text\"] = df[\"text\"].str.lower()\n",
    "df.head()"
   ]
  },
  {
   "attachments": {},
   "cell_type": "markdown",
   "metadata": {},
   "source": [
    "## Clean the text data by removing special characters, digits, and converting to lowercase"
   ]
  },
  {
   "attachments": {},
   "cell_type": "markdown",
   "metadata": {},
   "source": [
    "Our dataset had alot of special characters and digits so we need to remove them and clean the data"
   ]
  },
  {
   "cell_type": "code",
   "execution_count": 48,
   "metadata": {},
   "outputs": [
    {
     "data": {
      "text/html": [
       "<div>\n",
       "<style scoped>\n",
       "    .dataframe tbody tr th:only-of-type {\n",
       "        vertical-align: middle;\n",
       "    }\n",
       "\n",
       "    .dataframe tbody tr th {\n",
       "        vertical-align: top;\n",
       "    }\n",
       "\n",
       "    .dataframe thead th {\n",
       "        text-align: right;\n",
       "    }\n",
       "</style>\n",
       "<table border=\"1\" class=\"dataframe\">\n",
       "  <thead>\n",
       "    <tr style=\"text-align: right;\">\n",
       "      <th></th>\n",
       "      <th>text</th>\n",
       "      <th>label</th>\n",
       "      <th>cleaned_text</th>\n",
       "    </tr>\n",
       "  </thead>\n",
       "  <tbody>\n",
       "    <tr>\n",
       "      <th>0</th>\n",
       "      <td>bodi ya utalii tanzania (ttb) imesema, itafan...</td>\n",
       "      <td>uchumi</td>\n",
       "      <td>bodi ya utalii tanzania  ttb  imesema  itafan...</td>\n",
       "    </tr>\n",
       "  </tbody>\n",
       "</table>\n",
       "</div>"
      ],
      "text/plain": [
       "                                                text   label  \\\n",
       "0   bodi ya utalii tanzania (ttb) imesema, itafan...  uchumi   \n",
       "\n",
       "                                        cleaned_text  \n",
       "0   bodi ya utalii tanzania  ttb  imesema  itafan...  "
      ]
     },
     "execution_count": 48,
     "metadata": {},
     "output_type": "execute_result"
    }
   ],
   "source": [
    "# Clean the text data by removing special characters, digits, and converting to lowercase\n",
    "df['cleaned_text'] = df['text'].apply(lambda x: re.sub(r'[^a-zA-Z]', ' ', x))\n",
    "df['cleaned_text'] = df['cleaned_text'].apply(lambda x: x.lower())\n",
    "df.head(1)"
   ]
  },
  {
   "attachments": {},
   "cell_type": "markdown",
   "metadata": {},
   "source": [
    "## Removing emojis"
   ]
  },
  {
   "attachments": {},
   "cell_type": "markdown",
   "metadata": {},
   "source": [
    "Our dataset also had alot of emojis which we also removed"
   ]
  },
  {
   "cell_type": "code",
   "execution_count": 49,
   "metadata": {},
   "outputs": [],
   "source": [
    "def remove_emojis(text):\n",
    "    emoji_pattern = re.compile(\"[\"\n",
    "                           u\"\\U0001F600-\\U0001F64F\"  # emoticons\n",
    "                           u\"\\U0001F300-\\U0001F5FF\"  # symbols & pictographs\n",
    "                           u\"\\U0001F680-\\U0001F6FF\"  # transport & map symbols\n",
    "                           u\"\\U0001F1E0-\\U0001F1FF\"  # flags (iOS)\n",
    "                           u\"\\U00002500-\\U00002BEF\"  # Chinese/Japanese/Korean characters\n",
    "                           u\"\\U00002702-\\U000027B0\"\n",
    "                           u\"\\U00002702-\\U000027B0\"\n",
    "                           u\"\\U000024C2-\\U0001F251\"\n",
    "                           u\"\\U0001f926-\\U0001f937\"\n",
    "                           u\"\\U00010000-\\U0010FFFF\"\n",
    "                           u\"\\u2640-\\u2642\"\n",
    "                           u\"\\u2600-\\u2B55\"\n",
    "                           u\"\\u200d\"\n",
    "                           u\"\\u23cf\"\n",
    "                           u\"\\u23e9\"\n",
    "                           u\"\\u231a\"\n",
    "                           u\"\\ufe0f\"  # dingbats\n",
    "                           u\"\\u3030\"\n",
    "                           \"]+\", flags=re.UNICODE)\n",
    "    cleaned_text = emoji_pattern.sub(r'', text)\n",
    "    return cleaned_text"
   ]
  },
  {
   "cell_type": "code",
   "execution_count": 50,
   "metadata": {},
   "outputs": [
    {
     "data": {
      "text/html": [
       "<div>\n",
       "<style scoped>\n",
       "    .dataframe tbody tr th:only-of-type {\n",
       "        vertical-align: middle;\n",
       "    }\n",
       "\n",
       "    .dataframe tbody tr th {\n",
       "        vertical-align: top;\n",
       "    }\n",
       "\n",
       "    .dataframe thead th {\n",
       "        text-align: right;\n",
       "    }\n",
       "</style>\n",
       "<table border=\"1\" class=\"dataframe\">\n",
       "  <thead>\n",
       "    <tr style=\"text-align: right;\">\n",
       "      <th></th>\n",
       "      <th>text</th>\n",
       "      <th>label</th>\n",
       "      <th>cleaned_text</th>\n",
       "    </tr>\n",
       "  </thead>\n",
       "  <tbody>\n",
       "    <tr>\n",
       "      <th>212</th>\n",
       "      <td>uhakika wa kupata malisho ni mojawapo ya chang...</td>\n",
       "      <td>uchumi</td>\n",
       "      <td>uhakika wa kupata malisho ni mojawapo ya chang...</td>\n",
       "    </tr>\n",
       "    <tr>\n",
       "      <th>213</th>\n",
       "      <td>ukiingia katika shamba la ololo eneo la kajiad...</td>\n",
       "      <td>uchumi</td>\n",
       "      <td>ukiingia katika shamba la ololo eneo la kajiad...</td>\n",
       "    </tr>\n",
       "    <tr>\n",
       "      <th>214</th>\n",
       "      <td>shamba la charles mburu ni bustani ya mseto wa...</td>\n",
       "      <td>uchumi</td>\n",
       "      <td>shamba la charles mburu ni bustani ya mseto wa...</td>\n",
       "    </tr>\n",
       "    <tr>\n",
       "      <th>215</th>\n",
       "      <td>wakati hafanyi kazi na naivaa, chapa ya mitind...</td>\n",
       "      <td>uchumi</td>\n",
       "      <td>wakati hafanyi kazi na naivaa  chapa ya mitind...</td>\n",
       "    </tr>\n",
       "    <tr>\n",
       "      <th>216</th>\n",
       "      <td>baada ya kusaka ajira kwa muda mrefu pasi na m...</td>\n",
       "      <td>uchumi</td>\n",
       "      <td>baada ya kusaka ajira kwa muda mrefu pasi na m...</td>\n",
       "    </tr>\n",
       "  </tbody>\n",
       "</table>\n",
       "</div>"
      ],
      "text/plain": [
       "                                                  text   label  \\\n",
       "212  uhakika wa kupata malisho ni mojawapo ya chang...  uchumi   \n",
       "213  ukiingia katika shamba la ololo eneo la kajiad...  uchumi   \n",
       "214  shamba la charles mburu ni bustani ya mseto wa...  uchumi   \n",
       "215  wakati hafanyi kazi na naivaa, chapa ya mitind...  uchumi   \n",
       "216  baada ya kusaka ajira kwa muda mrefu pasi na m...  uchumi   \n",
       "\n",
       "                                          cleaned_text  \n",
       "212  uhakika wa kupata malisho ni mojawapo ya chang...  \n",
       "213  ukiingia katika shamba la ololo eneo la kajiad...  \n",
       "214  shamba la charles mburu ni bustani ya mseto wa...  \n",
       "215  wakati hafanyi kazi na naivaa  chapa ya mitind...  \n",
       "216  baada ya kusaka ajira kwa muda mrefu pasi na m...  "
      ]
     },
     "execution_count": 50,
     "metadata": {},
     "output_type": "execute_result"
    }
   ],
   "source": [
    "df['cleaned_text'] = df['cleaned_text'].apply(lambda x: remove_emojis(x))\n",
    "df.tail()"
   ]
  },
  {
   "attachments": {},
   "cell_type": "markdown",
   "metadata": {},
   "source": [
    "Our dataset now has no more emojis"
   ]
  },
  {
   "attachments": {},
   "cell_type": "markdown",
   "metadata": {},
   "source": [
    "## Removing stopwords"
   ]
  },
  {
   "attachments": {},
   "cell_type": "markdown",
   "metadata": {},
   "source": [
    "We made a custom stopwords list for identifying the stopwords to be removed from the dataset"
   ]
  },
  {
   "cell_type": "code",
   "execution_count": 51,
   "metadata": {},
   "outputs": [
    {
     "data": {
      "text/plain": [
       "0     bodi ya utalii tanzania  ttb  imesema  itafan...\n",
       "0    wapenzi wa sanaa na burudani mlima kenya na ko...\n",
       "Name: cleaned_text, dtype: object"
      ]
     },
     "execution_count": 51,
     "metadata": {},
     "output_type": "execute_result"
    }
   ],
   "source": [
    "# sample text before removing stopwords\n",
    "df['cleaned_text'][0]"
   ]
  },
  {
   "attachments": {},
   "cell_type": "markdown",
   "metadata": {},
   "source": [
    "We defined a function to remove the stopwords that have been identified in the list and further checked to confirm that they have been removed"
   ]
  },
  {
   "cell_type": "code",
   "execution_count": 52,
   "metadata": {},
   "outputs": [],
   "source": [
    "# defining stopwords list\n",
    "stopwords_swahili = ['akasema', 'alikuwa', 'alisema', 'baada', 'basi','bila', 'cha', 'chini', 'hadi', 'hapo', 'hata','hivyo', 'hiyo', 'huku', 'huo', 'ili',\n",
    "'ilikuwa', 'juu', 'kama', 'karibu', 'katika', 'kila ', 'kima', 'kisha', 'kubwa', 'kutoka', 'kuwa', 'kwa', 'kwamba', 'kwenda', 'kwenye', 'la', 'lakini', 'mara',\n",
    "'mdogo', 'mimi', 'mkubwa', 'mmoja', 'moja', 'muda', 'mwenye', 'na', 'naye', 'ndani', 'ng', 'ni', 'nini', 'pamoja', 'pia', 'sana', 'sasa', 'sauti', 'tafadhali', 'tena',\n",
    "'tu', 'ule', 'vile', 'wa', 'wakati', 'wake', 'walikuwa', 'wao', 'watu', 'wengine', 'wote', 'ya', 'yake', 'yangu', 'yao', 'yeye', 'yule', 'za', 'zaidi', 'zake', 'vya']"
   ]
  },
  {
   "cell_type": "code",
   "execution_count": 53,
   "metadata": {},
   "outputs": [],
   "source": [
    "# function to remove stopwords\n",
    "def swahili_stops(text):\n",
    "    no_stops = \" \".join([word for word in text.split() if word not in stopwords_swahili])\n",
    "    return no_stops"
   ]
  },
  {
   "cell_type": "code",
   "execution_count": 54,
   "metadata": {},
   "outputs": [
    {
     "data": {
      "text/plain": [
       "0    bodi utalii tanzania ttb imesema itafanya misa...\n",
       "0    wapenzi sanaa burudani mlima kenya kote nchini...\n",
       "Name: cleaned_text, dtype: object"
      ]
     },
     "execution_count": 54,
     "metadata": {},
     "output_type": "execute_result"
    }
   ],
   "source": [
    "# confirming stopwords removal\n",
    "df['cleaned_text'] = df['cleaned_text'].apply(lambda text : swahili_stops(text))\n",
    "df['cleaned_text'][0]"
   ]
  },
  {
   "attachments": {},
   "cell_type": "markdown",
   "metadata": {},
   "source": [
    "This confirms that there are no more stopwords"
   ]
  },
  {
   "attachments": {},
   "cell_type": "markdown",
   "metadata": {},
   "source": [
    "## Removing punctuations"
   ]
  },
  {
   "attachments": {},
   "cell_type": "markdown",
   "metadata": {},
   "source": [
    "Our dataset also had alot of punctuations so we had to remove them. But first let's see what kind of punctuations we had in our dataset"
   ]
  },
  {
   "cell_type": "code",
   "execution_count": 55,
   "metadata": {},
   "outputs": [
    {
     "name": "stdout",
     "output_type": "stream",
     "text": [
      "!\"#$%&'()*+,-./:;<=>?@[\\]^_`{|}~\n"
     ]
    }
   ],
   "source": [
    "# punctuation\n",
    "exclude = string.punctuation\n",
    "print(exclude)"
   ]
  },
  {
   "cell_type": "code",
   "execution_count": 56,
   "metadata": {},
   "outputs": [],
   "source": [
    "# remove punctuations\n",
    "def remove_punctuations(text):\n",
    "    \n",
    "    for char in exclude:\n",
    "        text = text.replace(char,'')\n",
    "    return text"
   ]
  },
  {
   "cell_type": "code",
   "execution_count": 57,
   "metadata": {},
   "outputs": [
    {
     "data": {
      "text/html": [
       "<div>\n",
       "<style scoped>\n",
       "    .dataframe tbody tr th:only-of-type {\n",
       "        vertical-align: middle;\n",
       "    }\n",
       "\n",
       "    .dataframe tbody tr th {\n",
       "        vertical-align: top;\n",
       "    }\n",
       "\n",
       "    .dataframe thead th {\n",
       "        text-align: right;\n",
       "    }\n",
       "</style>\n",
       "<table border=\"1\" class=\"dataframe\">\n",
       "  <thead>\n",
       "    <tr style=\"text-align: right;\">\n",
       "      <th></th>\n",
       "      <th>text</th>\n",
       "      <th>label</th>\n",
       "      <th>cleaned_text</th>\n",
       "    </tr>\n",
       "  </thead>\n",
       "  <tbody>\n",
       "    <tr>\n",
       "      <th>0</th>\n",
       "      <td>bodi ya utalii tanzania (ttb) imesema, itafan...</td>\n",
       "      <td>uchumi</td>\n",
       "      <td>bodi utalii tanzania ttb imesema itafanya misa...</td>\n",
       "    </tr>\n",
       "    <tr>\n",
       "      <th>1</th>\n",
       "      <td>pendo fundisha-mbeya rais dk. john magufuri, ...</td>\n",
       "      <td>kitaifa</td>\n",
       "      <td>pendo fundisha mbeya rais dk john magufuri ame...</td>\n",
       "    </tr>\n",
       "    <tr>\n",
       "      <th>2</th>\n",
       "      <td>mwandishi wetu -singida benki ya nmb imetoa ms...</td>\n",
       "      <td>uchumi</td>\n",
       "      <td>mwandishi wetu singida benki nmb imetoa msaada...</td>\n",
       "    </tr>\n",
       "    <tr>\n",
       "      <th>3</th>\n",
       "      <td>timu ya taifa ya tanzania, serengeti boys jan...</td>\n",
       "      <td>michezo</td>\n",
       "      <td>timu taifa tanzania serengeti boys jana ilijiw...</td>\n",
       "    </tr>\n",
       "    <tr>\n",
       "      <th>4</th>\n",
       "      <td>na agatha charles – dar es salaam aliyekuwa k...</td>\n",
       "      <td>kitaifa</td>\n",
       "      <td>agatha charles dar es salaam aliyekuwa katibu ...</td>\n",
       "    </tr>\n",
       "  </tbody>\n",
       "</table>\n",
       "</div>"
      ],
      "text/plain": [
       "                                                text    label  \\\n",
       "0   bodi ya utalii tanzania (ttb) imesema, itafan...   uchumi   \n",
       "1   pendo fundisha-mbeya rais dk. john magufuri, ...  kitaifa   \n",
       "2  mwandishi wetu -singida benki ya nmb imetoa ms...   uchumi   \n",
       "3   timu ya taifa ya tanzania, serengeti boys jan...  michezo   \n",
       "4   na agatha charles – dar es salaam aliyekuwa k...  kitaifa   \n",
       "\n",
       "                                        cleaned_text  \n",
       "0  bodi utalii tanzania ttb imesema itafanya misa...  \n",
       "1  pendo fundisha mbeya rais dk john magufuri ame...  \n",
       "2  mwandishi wetu singida benki nmb imetoa msaada...  \n",
       "3  timu taifa tanzania serengeti boys jana ilijiw...  \n",
       "4  agatha charles dar es salaam aliyekuwa katibu ...  "
      ]
     },
     "execution_count": 57,
     "metadata": {},
     "output_type": "execute_result"
    }
   ],
   "source": [
    "df['cleaned_text'] = df['cleaned_text'].apply(remove_punctuations)\n",
    "df.head()"
   ]
  },
  {
   "attachments": {},
   "cell_type": "markdown",
   "metadata": {},
   "source": [
    "\n",
    "This shows the data with punctuations before removing them and what the dataset looks like without the punctuations on the right"
   ]
  },
  {
   "attachments": {},
   "cell_type": "markdown",
   "metadata": {},
   "source": [
    "## Tokenization"
   ]
  },
  {
   "attachments": {},
   "cell_type": "markdown",
   "metadata": {},
   "source": [
    "Here we shall Tokenize our data. This will help us with organizing and understanding  the text data, and also enabling further analysis and processing."
   ]
  },
  {
   "cell_type": "code",
   "execution_count": 58,
   "metadata": {},
   "outputs": [
    {
     "data": {
      "text/html": [
       "<div>\n",
       "<style scoped>\n",
       "    .dataframe tbody tr th:only-of-type {\n",
       "        vertical-align: middle;\n",
       "    }\n",
       "\n",
       "    .dataframe tbody tr th {\n",
       "        vertical-align: top;\n",
       "    }\n",
       "\n",
       "    .dataframe thead th {\n",
       "        text-align: right;\n",
       "    }\n",
       "</style>\n",
       "<table border=\"1\" class=\"dataframe\">\n",
       "  <thead>\n",
       "    <tr style=\"text-align: right;\">\n",
       "      <th></th>\n",
       "      <th>text</th>\n",
       "      <th>label</th>\n",
       "      <th>cleaned_text</th>\n",
       "      <th>tokenized_text</th>\n",
       "    </tr>\n",
       "  </thead>\n",
       "  <tbody>\n",
       "    <tr>\n",
       "      <th>0</th>\n",
       "      <td>bodi ya utalii tanzania (ttb) imesema, itafan...</td>\n",
       "      <td>uchumi</td>\n",
       "      <td>bodi utalii tanzania ttb imesema itafanya misa...</td>\n",
       "      <td>[bodi, utalii, tanzania, ttb, imesema, itafany...</td>\n",
       "    </tr>\n",
       "    <tr>\n",
       "      <th>1</th>\n",
       "      <td>pendo fundisha-mbeya rais dk. john magufuri, ...</td>\n",
       "      <td>kitaifa</td>\n",
       "      <td>pendo fundisha mbeya rais dk john magufuri ame...</td>\n",
       "      <td>[pendo, fundisha, mbeya, rais, dk, john, maguf...</td>\n",
       "    </tr>\n",
       "    <tr>\n",
       "      <th>2</th>\n",
       "      <td>mwandishi wetu -singida benki ya nmb imetoa ms...</td>\n",
       "      <td>uchumi</td>\n",
       "      <td>mwandishi wetu singida benki nmb imetoa msaada...</td>\n",
       "      <td>[mwandishi, wetu, singida, benki, nmb, imetoa,...</td>\n",
       "    </tr>\n",
       "    <tr>\n",
       "      <th>3</th>\n",
       "      <td>timu ya taifa ya tanzania, serengeti boys jan...</td>\n",
       "      <td>michezo</td>\n",
       "      <td>timu taifa tanzania serengeti boys jana ilijiw...</td>\n",
       "      <td>[timu, taifa, tanzania, serengeti, boys, jana,...</td>\n",
       "    </tr>\n",
       "    <tr>\n",
       "      <th>4</th>\n",
       "      <td>na agatha charles – dar es salaam aliyekuwa k...</td>\n",
       "      <td>kitaifa</td>\n",
       "      <td>agatha charles dar es salaam aliyekuwa katibu ...</td>\n",
       "      <td>[agatha, charles, dar, es, salaam, aliyekuwa, ...</td>\n",
       "    </tr>\n",
       "  </tbody>\n",
       "</table>\n",
       "</div>"
      ],
      "text/plain": [
       "                                                text    label  \\\n",
       "0   bodi ya utalii tanzania (ttb) imesema, itafan...   uchumi   \n",
       "1   pendo fundisha-mbeya rais dk. john magufuri, ...  kitaifa   \n",
       "2  mwandishi wetu -singida benki ya nmb imetoa ms...   uchumi   \n",
       "3   timu ya taifa ya tanzania, serengeti boys jan...  michezo   \n",
       "4   na agatha charles – dar es salaam aliyekuwa k...  kitaifa   \n",
       "\n",
       "                                        cleaned_text  \\\n",
       "0  bodi utalii tanzania ttb imesema itafanya misa...   \n",
       "1  pendo fundisha mbeya rais dk john magufuri ame...   \n",
       "2  mwandishi wetu singida benki nmb imetoa msaada...   \n",
       "3  timu taifa tanzania serengeti boys jana ilijiw...   \n",
       "4  agatha charles dar es salaam aliyekuwa katibu ...   \n",
       "\n",
       "                                      tokenized_text  \n",
       "0  [bodi, utalii, tanzania, ttb, imesema, itafany...  \n",
       "1  [pendo, fundisha, mbeya, rais, dk, john, maguf...  \n",
       "2  [mwandishi, wetu, singida, benki, nmb, imetoa,...  \n",
       "3  [timu, taifa, tanzania, serengeti, boys, jana,...  \n",
       "4  [agatha, charles, dar, es, salaam, aliyekuwa, ...  "
      ]
     },
     "execution_count": 58,
     "metadata": {},
     "output_type": "execute_result"
    }
   ],
   "source": [
    "df['tokenized_text'] = df['cleaned_text'].apply(lambda x: word_tokenize(x))\n",
    "df.head()"
   ]
  },
  {
   "attachments": {},
   "cell_type": "markdown",
   "metadata": {},
   "source": [
    "## Exploratory Data Analysis: Frequency Distributions"
   ]
  },
  {
   "attachments": {},
   "cell_type": "markdown",
   "metadata": {},
   "source": [
    "Here it involves examining and understanding the characteristics and patterns within the dataset.ed how often a word appears in the dataset. Lets see what the top 10 most frequent words in our dataset"
   ]
  },
  {
   "cell_type": "code",
   "execution_count": 59,
   "metadata": {},
   "outputs": [
    {
     "name": "stdout",
     "output_type": "stream",
     "text": [
      "mwaka: 29541\n",
      "serikali: 24441\n",
      "hilo: 21494\n",
      "nchini: 20703\n",
      "tanzania: 18220\n",
      "mkuu: 18036\n",
      "timu: 17386\n",
      "nchi: 17188\n",
      "rais: 17128\n",
      "huyo: 16909\n"
     ]
    }
   ],
   "source": [
    "from nltk.probability import FreqDist\n",
    "# Calculate word frequencies\n",
    "freq_dist = FreqDist(df[\"tokenized_text\"].explode())\n",
    "\n",
    "# Print the most common words and their frequencies\n",
    "for word, frequency in freq_dist.most_common(10):\n",
    "    print(f\"{word}: {frequency}\")"
   ]
  },
  {
   "cell_type": "code",
   "execution_count": 60,
   "metadata": {},
   "outputs": [
    {
     "data": {
      "image/png": "[encoded data removed]",
      "text/plain": [
       "<Figure size 640x480 with 1 Axes>"
      ]
     },
     "metadata": {},
     "output_type": "display_data"
    }
   ],
   "source": [
    "from matplotlib.ticker import MaxNLocator\n",
    "def visualize_top_10(freq_dist, title):\n",
    "\n",
    "    # Extract data for plotting\n",
    "    top_10 = list(zip(*freq_dist.most_common(10)))\n",
    "    tokens = top_10[0]\n",
    "    counts = top_10[1]\n",
    "\n",
    "    # Set up plot and plot data\n",
    "    fig, ax = plt.subplots()\n",
    "    ax.bar(tokens, counts)\n",
    "\n",
    "    # Customize plot appearance\n",
    "    ax.set_title(title)\n",
    "    ax.set_ylabel(\"Count\")\n",
    "    ax.yaxis.set_major_locator(MaxNLocator(integer=True))\n",
    "    ax.tick_params(axis=\"x\", rotation=45)\n",
    "    \n",
    "visualize_top_10(freq_dist, \"Top 10 Word Frequency Tokens\")\n"
   ]
  },
  {
   "attachments": {},
   "cell_type": "markdown",
   "metadata": {},
   "source": [
    "Here we plotted the results to have a more visual view of the tokens"
   ]
  },
  {
   "cell_type": "code",
   "execution_count": 61,
   "metadata": {},
   "outputs": [
    {
     "data": {
      "text/plain": [
       "kitaifa      10190\n",
       "michezo       6005\n",
       "burudani      2220\n",
       "kimataifa     1888\n",
       "uchumi        1306\n",
       "afya           814\n",
       "Name: label, dtype: int64"
      ]
     },
     "execution_count": 61,
     "metadata": {},
     "output_type": "execute_result"
    }
   ],
   "source": [
    "#lets check the Frequency of words in the label column\n",
    "df['label'].value_counts()"
   ]
  },
  {
   "attachments": {},
   "cell_type": "markdown",
   "metadata": {},
   "source": [
    " - 'kitaifa' is the most frequent value in the 'label' column, appearing 10,155 times.\n",
    " - 'afya' is the least frequent value, appearing 779 times."
   ]
  },
  {
   "cell_type": "code",
   "execution_count": 62,
   "metadata": {},
   "outputs": [
    {
     "data": {
      "image/png": "[encoded data removed]",
      "text/plain": [
       "<Figure size 1500x1000 with 6 Axes>"
      ]
     },
     "metadata": {},
     "output_type": "display_data"
    }
   ],
   "source": [
    "def plot_top_10_for_each_label(df, tokenized_column):\n",
    "    # Group the data by labels\n",
    "    grouped_data = df.groupby('label')[tokenized_column]\n",
    "    # Create a figure with subplots for each label\n",
    "    fig, axes = plt.subplots(nrows=2, ncols=3, figsize=(15, 10))\n",
    "    # Iterate over the labels and plot the top 10 words by count\n",
    "    for i, (label, tokens) in enumerate(grouped_data):\n",
    "        # Flatten the list of strings\n",
    "        flattened_tokens = [token for sublist in tokens for token in sublist]\n",
    "        # Count the occurrences of each word\n",
    "        word_counts = pd.Series(flattened_tokens).value_counts()\n",
    "        top_10_words = word_counts.head(10)\n",
    "        # Create a bar plot for the current label\n",
    "        ax = axes[i // 3, i % 3]\n",
    "        ax.bar(top_10_words.index, top_10_words.values)\n",
    "        ax.set_title(f'Top 10 words for label \"{label}\"')\n",
    "        ax.set_xlabel('Words')\n",
    "        ax.set_ylabel('Count')\n",
    "        ax.tick_params(axis='x', rotation=45)\n",
    "    # Adjust the spacing between subplots\n",
    "    plt.tight_layout()\n",
    "    # Show the plots\n",
    "    plt.show()\n",
    "    \n",
    "    \n",
    "plot_top_10_for_each_label(df, 'tokenized_text')\n",
    "\n"
   ]
  },
  {
   "attachments": {},
   "cell_type": "markdown",
   "metadata": {},
   "source": [
    "Here we plotted the top frequent words per label:\n",
    "- 'anasema' was the top value for the label 'afya'\n",
    "- 'muziki' was the top value for the label 'burudani'\n",
    "- 'rais' was the top value for the label 'kimataifa'\n",
    "- 'serikali' was the top value for the label 'kitaifa'\n",
    "- 'timu' was the top value for the label 'michezo'\n",
    "- 'serikali' was the top value for the label 'uchumi'"
   ]
  },
  {
   "cell_type": "code",
   "execution_count": null,
   "metadata": {},
   "outputs": [],
   "source": []
  }
 ],
 "metadata": {
  "kernelspec": {
   "display_name": "Python 3 (ipykernel)",
   "language": "python",
   "name": "python3"
  },
  "language_info": {
   "codemirror_mode": {
    "name": "ipython",
    "version": 3
   },
   "file_extension": ".py",
   "mimetype": "text/x-python",
   "name": "python",
   "nbconvert_exporter": "python",
   "pygments_lexer": "ipython3",
   "version": "3.9.13"
  }
 },
 "nbformat": 4,
 "nbformat_minor": 2
}
