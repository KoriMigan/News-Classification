{
 "cells": [
  {
   "cell_type": "markdown",
   "metadata": {},
   "source": [
    "# East African News Classification"
   ]
  },
  {
   "cell_type": "markdown",
   "metadata": {},
   "source": [
    "## Business Understanding"
   ]
  },
  {
   "cell_type": "markdown",
   "metadata": {},
   "source": [
    "### Business Overview"
   ]
  },
  {
   "cell_type": "markdown",
   "metadata": {},
   "source": [
    "> The \"East African News Classification\" dataset presents an opportunity for news organizations in the region to automate and improve the accuracy of news categorization. Analyzing the dataset enables identification of emerging trends and provides valuable insights into East African news.\n"
   ]
  },
  {
   "cell_type": "markdown",
   "metadata": {},
   "source": [
    "### Business Problem"
   ]
  },
  {
   "cell_type": "markdown",
   "metadata": {},
   "source": [
    "* News outlets have been grappling with the time-consuming and error-prone manual process of categorizing news articles from East African nations. This inefficient approach hinders their ability to track media streams, understand cultural influences on press reporting, and provide tailored insights. \n",
    "* By implementing a machine learning text classification model, the news outlet can automate and improve the accuracy of categorization, enabling them to efficiently track information flows, identify emerging trends, and gain valuable insights into how culture shapes press reporting in the region. \n",
    "* This investment in a robust text classification model would streamline operations, ensure consistency, and enhance their reporting capabilities, ultimately allowing them to better serve their audience and remain competitive.\n"
   ]
  },
  {
   "cell_type": "markdown",
   "metadata": {},
   "source": [
    "## Data Understanding"
   ]
  },
  {
   "cell_type": "markdown",
   "metadata": {},
   "source": [
    "* For this project, we analysed an East African News Classification dataset which has 23268 rows 3 columns.\n",
    "* The three columns are {text}, {label} and {category}\n",
    "* We chose this Dataset because it offers critical insights into media streams across East Africa, allowing for tailored insights related to racial tensions and social shifts.\n",
    "\n",
    "\n"
   ]
  },
  {
   "cell_type": "markdown",
   "metadata": {},
   "source": [
    "## Objectives"
   ]
  },
  {
   "cell_type": "markdown",
   "metadata": {},
   "source": [
    "### General Objectives"
   ]
  },
  {
   "cell_type": "markdown",
   "metadata": {},
   "source": []
  },
  {
   "cell_type": "markdown",
   "metadata": {},
   "source": [
    "### Specific Objectives"
   ]
  },
  {
   "cell_type": "markdown",
   "metadata": {},
   "source": []
  },
  {
   "cell_type": "markdown",
   "metadata": {},
   "source": [
    "### Success Metrics"
   ]
  },
  {
   "cell_type": "markdown",
   "metadata": {},
   "source": []
  },
  {
   "cell_type": "markdown",
   "metadata": {},
   "source": [
    "## Data Preparation"
   ]
  },
  {
   "cell_type": "markdown",
   "metadata": {},
   "source": []
  },
  {
   "cell_type": "markdown",
   "metadata": {},
   "source": [
    "## Modeling"
   ]
  },
  {
   "cell_type": "markdown",
   "metadata": {},
   "source": []
  },
  {
   "cell_type": "markdown",
   "metadata": {},
   "source": []
  },
  {
   "cell_type": "markdown",
   "metadata": {},
   "source": [
    "## Evaluation"
   ]
  },
  {
   "cell_type": "markdown",
   "metadata": {},
   "source": []
  },
  {
   "cell_type": "markdown",
   "metadata": {},
   "source": [
    "## Deployment"
   ]
  },
  {
   "cell_type": "markdown",
   "metadata": {},
   "source": []
  },
  {
   "cell_type": "markdown",
   "metadata": {},
   "source": [
    "## Importing Necessary Libraries"
   ]
  },
  {
   "cell_type": "code",
   "execution_count": 105,
   "metadata": {},
   "outputs": [
    {
     "name": "stderr",
     "output_type": "stream",
     "text": [
      "[nltk_data] Downloading package punkt to\n",
      "[nltk_data]     C:\\Users\\user\\AppData\\Roaming\\nltk_data...\n",
      "[nltk_data]   Package punkt is already up-to-date!\n"
     ]
    }
   ],
   "source": [
    "import pandas as pd\n",
    "import nltk\n",
    "import numpy as np\n",
    "import matplotlib.pyplot as plt\n",
    "import seaborn as sns\n",
    "from pandas_profiling import ProfileReport\n",
    "from nltk.corpus import stopwords\n",
    "from nltk.tokenize import word_tokenize\n",
    "from nltk.stem import WordNetLemmatizer\n",
    "from wordcloud import WordCloud\n",
    "from nltk.tokenize import RegexpTokenizer\n",
    "nltk.download('punkt')\n",
    "import nltk\n",
    "import re\n",
    "import string"
   ]
  },
  {
   "cell_type": "code",
   "execution_count": 106,
   "metadata": {},
   "outputs": [
    {
     "data": {
      "text/html": [
       "<div>\n",
       "<style scoped>\n",
       "    .dataframe tbody tr th:only-of-type {\n",
       "        vertical-align: middle;\n",
       "    }\n",
       "\n",
       "    .dataframe tbody tr th {\n",
       "        vertical-align: top;\n",
       "    }\n",
       "\n",
       "    .dataframe thead th {\n",
       "        text-align: right;\n",
       "    }\n",
       "</style>\n",
       "<table border=\"1\" class=\"dataframe\">\n",
       "  <thead>\n",
       "    <tr style=\"text-align: right;\">\n",
       "      <th></th>\n",
       "      <th>text</th>\n",
       "      <th>label</th>\n",
       "    </tr>\n",
       "  </thead>\n",
       "  <tbody>\n",
       "    <tr>\n",
       "      <th>0</th>\n",
       "      <td>Bodi ya Utalii Tanzania (TTB) imesema, itafan...</td>\n",
       "      <td>uchumi</td>\n",
       "    </tr>\n",
       "    <tr>\n",
       "      <th>1</th>\n",
       "      <td>PENDO FUNDISHA-MBEYA RAIS Dk. John Magufuri, ...</td>\n",
       "      <td>kitaifa</td>\n",
       "    </tr>\n",
       "    <tr>\n",
       "      <th>2</th>\n",
       "      <td>Mwandishi Wetu -Singida BENKI ya NMB imetoa ms...</td>\n",
       "      <td>uchumi</td>\n",
       "    </tr>\n",
       "    <tr>\n",
       "      <th>3</th>\n",
       "      <td>TIMU ya taifa ya Tanzania, Serengeti Boys jan...</td>\n",
       "      <td>michezo</td>\n",
       "    </tr>\n",
       "    <tr>\n",
       "      <th>4</th>\n",
       "      <td>Na AGATHA CHARLES – DAR ES SALAAM ALIYEKUWA K...</td>\n",
       "      <td>kitaifa</td>\n",
       "    </tr>\n",
       "  </tbody>\n",
       "</table>\n",
       "</div>"
      ],
      "text/plain": [
       "                                                text    label\n",
       "0   Bodi ya Utalii Tanzania (TTB) imesema, itafan...   uchumi\n",
       "1   PENDO FUNDISHA-MBEYA RAIS Dk. John Magufuri, ...  kitaifa\n",
       "2  Mwandishi Wetu -Singida BENKI ya NMB imetoa ms...   uchumi\n",
       "3   TIMU ya taifa ya Tanzania, Serengeti Boys jan...  michezo\n",
       "4   Na AGATHA CHARLES – DAR ES SALAAM ALIYEKUWA K...  kitaifa"
      ]
     },
     "execution_count": 106,
     "metadata": {},
     "output_type": "execute_result"
    }
   ],
   "source": [
    "df = pd.read_csv('train_v0.2.csv')\n",
    "df.head()"
   ]
  },
  {
   "cell_type": "code",
   "execution_count": 107,
   "metadata": {},
   "outputs": [],
   "source": [
    "#profile = ProfileReport(df)\n"
   ]
  },
  {
   "cell_type": "code",
   "execution_count": 108,
   "metadata": {},
   "outputs": [],
   "source": [
    "#profile.to_widgets()"
   ]
  },
  {
   "cell_type": "markdown",
   "metadata": {},
   "source": [
    "# Data Cleaning"
   ]
  },
  {
   "cell_type": "markdown",
   "metadata": {},
   "source": [
    "## Missing Values"
   ]
  },
  {
   "cell_type": "code",
   "execution_count": 109,
   "metadata": {},
   "outputs": [
    {
     "name": "stdout",
     "output_type": "stream",
     "text": [
      "Missing values found:\n",
      "text     1\n",
      "label    0\n",
      "dtype: int64\n"
     ]
    }
   ],
   "source": [
    "# Function to check for missing values\n",
    "def check_missing_values(data):\n",
    "    missing_values = df.isnull().sum()\n",
    "    if missing_values.any():\n",
    "        print(\"Missing values found:\")\n",
    "        print(missing_values)\n",
    "    else:\n",
    "        print(\"No missing values found.\")\n",
    "\n",
    "# Check for\n",
    "check_missing_values(df)"
   ]
  },
  {
   "cell_type": "code",
   "execution_count": 110,
   "metadata": {},
   "outputs": [
    {
     "name": "stdout",
     "output_type": "stream",
     "text": [
      "No missing values found.\n"
     ]
    }
   ],
   "source": [
    "# Drop row with missing value\n",
    "df.dropna(axis=0, inplace=True)\n",
    "\n",
    "# Confirm missing rows dropped\n",
    "check_missing_values(df)"
   ]
  },
  {
   "cell_type": "markdown",
   "metadata": {},
   "source": [
    "## Duplicate Values"
   ]
  },
  {
   "cell_type": "code",
   "execution_count": 111,
   "metadata": {},
   "outputs": [
    {
     "name": "stdout",
     "output_type": "stream",
     "text": [
      "No duplicate rows found.\n"
     ]
    }
   ],
   "source": [
    "# Function to check for duplicates\n",
    "def check_duplicates(df):\n",
    "    duplicates = df.duplicated()\n",
    "    if duplicates.any():\n",
    "        print(\"Duplicate rows found:\")\n",
    "        print(df[duplicates])\n",
    "    else:\n",
    "        print(\"No duplicate rows found.\")\n",
    "\n",
    "check_duplicates(df)"
   ]
  },
  {
   "cell_type": "code",
   "execution_count": 112,
   "metadata": {},
   "outputs": [
    {
     "data": {
      "text/html": [
       "<div>\n",
       "<style scoped>\n",
       "    .dataframe tbody tr th:only-of-type {\n",
       "        vertical-align: middle;\n",
       "    }\n",
       "\n",
       "    .dataframe tbody tr th {\n",
       "        vertical-align: top;\n",
       "    }\n",
       "\n",
       "    .dataframe thead th {\n",
       "        text-align: right;\n",
       "    }\n",
       "</style>\n",
       "<table border=\"1\" class=\"dataframe\">\n",
       "  <thead>\n",
       "    <tr style=\"text-align: right;\">\n",
       "      <th></th>\n",
       "      <th>text</th>\n",
       "      <th>label</th>\n",
       "    </tr>\n",
       "  </thead>\n",
       "  <tbody>\n",
       "    <tr>\n",
       "      <th>0</th>\n",
       "      <td>bodi ya utalii tanzania (ttb) imesema, itafan...</td>\n",
       "      <td>uchumi</td>\n",
       "    </tr>\n",
       "    <tr>\n",
       "      <th>1</th>\n",
       "      <td>pendo fundisha-mbeya rais dk. john magufuri, ...</td>\n",
       "      <td>kitaifa</td>\n",
       "    </tr>\n",
       "    <tr>\n",
       "      <th>2</th>\n",
       "      <td>mwandishi wetu -singida benki ya nmb imetoa ms...</td>\n",
       "      <td>uchumi</td>\n",
       "    </tr>\n",
       "    <tr>\n",
       "      <th>3</th>\n",
       "      <td>timu ya taifa ya tanzania, serengeti boys jan...</td>\n",
       "      <td>michezo</td>\n",
       "    </tr>\n",
       "    <tr>\n",
       "      <th>4</th>\n",
       "      <td>na agatha charles – dar es salaam aliyekuwa k...</td>\n",
       "      <td>kitaifa</td>\n",
       "    </tr>\n",
       "  </tbody>\n",
       "</table>\n",
       "</div>"
      ],
      "text/plain": [
       "                                                text    label\n",
       "0   bodi ya utalii tanzania (ttb) imesema, itafan...   uchumi\n",
       "1   pendo fundisha-mbeya rais dk. john magufuri, ...  kitaifa\n",
       "2  mwandishi wetu -singida benki ya nmb imetoa ms...   uchumi\n",
       "3   timu ya taifa ya tanzania, serengeti boys jan...  michezo\n",
       "4   na agatha charles – dar es salaam aliyekuwa k...  kitaifa"
      ]
     },
     "execution_count": 112,
     "metadata": {},
     "output_type": "execute_result"
    }
   ],
   "source": [
    "# Transform text to lowercase\n",
    "df[\"text\"] = df[\"text\"].str.lower()\n",
    "df.head()"
   ]
  },
  {
   "cell_type": "markdown",
   "metadata": {},
   "source": [
    "### Clean the text data by removing special characters, digits, and converting to lowercase"
   ]
  },
  {
   "cell_type": "code",
   "execution_count": 114,
   "metadata": {},
   "outputs": [
    {
     "data": {
      "text/html": [
       "<div>\n",
       "<style scoped>\n",
       "    .dataframe tbody tr th:only-of-type {\n",
       "        vertical-align: middle;\n",
       "    }\n",
       "\n",
       "    .dataframe tbody tr th {\n",
       "        vertical-align: top;\n",
       "    }\n",
       "\n",
       "    .dataframe thead th {\n",
       "        text-align: right;\n",
       "    }\n",
       "</style>\n",
       "<table border=\"1\" class=\"dataframe\">\n",
       "  <thead>\n",
       "    <tr style=\"text-align: right;\">\n",
       "      <th></th>\n",
       "      <th>text</th>\n",
       "      <th>label</th>\n",
       "      <th>cleaned_text</th>\n",
       "    </tr>\n",
       "  </thead>\n",
       "  <tbody>\n",
       "    <tr>\n",
       "      <th>0</th>\n",
       "      <td>bodi ya utalii tanzania (ttb) imesema, itafan...</td>\n",
       "      <td>uchumi</td>\n",
       "      <td>bodi ya utalii tanzania  ttb  imesema  itafan...</td>\n",
       "    </tr>\n",
       "  </tbody>\n",
       "</table>\n",
       "</div>"
      ],
      "text/plain": [
       "                                                text   label  \\\n",
       "0   bodi ya utalii tanzania (ttb) imesema, itafan...  uchumi   \n",
       "\n",
       "                                        cleaned_text  \n",
       "0   bodi ya utalii tanzania  ttb  imesema  itafan...  "
      ]
     },
     "execution_count": 114,
     "metadata": {},
     "output_type": "execute_result"
    }
   ],
   "source": [
    "# Clean the text data by removing special characters, digits, and converting to lowercase\n",
    "df['cleaned_text'] = df['text'].apply(lambda x: re.sub(r'[^a-zA-Z]', ' ', x))\n",
    "df['cleaned_text'] = df['cleaned_text'].apply(lambda x: x.lower())\n",
    "df.head(1)"
   ]
  },
  {
   "cell_type": "markdown",
   "metadata": {},
   "source": [
    "## removing emojis"
   ]
  },
  {
   "cell_type": "code",
   "execution_count": 115,
   "metadata": {},
   "outputs": [],
   "source": [
    "def remove_emojis(text):\n",
    "    emoji_pattern = re.compile(\"[\"\n",
    "                           u\"\\U0001F600-\\U0001F64F\"  # emoticons\n",
    "                           u\"\\U0001F300-\\U0001F5FF\"  # symbols & pictographs\n",
    "                           u\"\\U0001F680-\\U0001F6FF\"  # transport & map symbols\n",
    "                           u\"\\U0001F1E0-\\U0001F1FF\"  # flags (iOS)\n",
    "                           u\"\\U00002500-\\U00002BEF\"  # Chinese/Japanese/Korean characters\n",
    "                           u\"\\U00002702-\\U000027B0\"\n",
    "                           u\"\\U00002702-\\U000027B0\"\n",
    "                           u\"\\U000024C2-\\U0001F251\"\n",
    "                           u\"\\U0001f926-\\U0001f937\"\n",
    "                           u\"\\U00010000-\\U0010FFFF\"\n",
    "                           u\"\\u2640-\\u2642\"\n",
    "                           u\"\\u2600-\\u2B55\"\n",
    "                           u\"\\u200d\"\n",
    "                           u\"\\u23cf\"\n",
    "                           u\"\\u23e9\"\n",
    "                           u\"\\u231a\"\n",
    "                           u\"\\ufe0f\"  # dingbats\n",
    "                           u\"\\u3030\"\n",
    "                           \"]+\", flags=re.UNICODE)\n",
    "    cleaned_text = emoji_pattern.sub(r'', text)\n",
    "    return cleaned_text"
   ]
  },
  {
   "cell_type": "code",
   "execution_count": 117,
   "metadata": {},
   "outputs": [
    {
     "data": {
      "text/html": [
       "<div>\n",
       "<style scoped>\n",
       "    .dataframe tbody tr th:only-of-type {\n",
       "        vertical-align: middle;\n",
       "    }\n",
       "\n",
       "    .dataframe tbody tr th {\n",
       "        vertical-align: top;\n",
       "    }\n",
       "\n",
       "    .dataframe thead th {\n",
       "        text-align: right;\n",
       "    }\n",
       "</style>\n",
       "<table border=\"1\" class=\"dataframe\">\n",
       "  <thead>\n",
       "    <tr style=\"text-align: right;\">\n",
       "      <th></th>\n",
       "      <th>text</th>\n",
       "      <th>label</th>\n",
       "      <th>cleaned_text</th>\n",
       "    </tr>\n",
       "  </thead>\n",
       "  <tbody>\n",
       "    <tr>\n",
       "      <th>22202</th>\n",
       "      <td>alitoa pongezi hizo alipozindua rasmi hatua y...</td>\n",
       "      <td>uchumi</td>\n",
       "      <td>alitoa pongezi hizo alipozindua rasmi hatua y...</td>\n",
       "    </tr>\n",
       "    <tr>\n",
       "      <th>22203</th>\n",
       "      <td>na nora damian-dar es salaam  tekla (si jina ...</td>\n",
       "      <td>kitaifa</td>\n",
       "      <td>na nora damian dar es salaam  tekla  si jina ...</td>\n",
       "    </tr>\n",
       "    <tr>\n",
       "      <th>22204</th>\n",
       "      <td>mkuu wa mkoa wa njombe, dk rehema nchimbi wak...</td>\n",
       "      <td>uchumi</td>\n",
       "      <td>mkuu wa mkoa wa njombe  dk rehema nchimbi wak...</td>\n",
       "    </tr>\n",
       "    <tr>\n",
       "      <th>22205</th>\n",
       "      <td>mabingwa wa ligi kuu soka tanzania bara, simb...</td>\n",
       "      <td>michezo</td>\n",
       "      <td>mabingwa wa ligi kuu soka tanzania bara  simb...</td>\n",
       "    </tr>\n",
       "    <tr>\n",
       "      <th>22206</th>\n",
       "      <td>wiki iliyopita, nilianza makala haya yanayole...</td>\n",
       "      <td>kitaifa</td>\n",
       "      <td>wiki iliyopita  nilianza makala haya yanayole...</td>\n",
       "    </tr>\n",
       "  </tbody>\n",
       "</table>\n",
       "</div>"
      ],
      "text/plain": [
       "                                                    text    label  \\\n",
       "22202   alitoa pongezi hizo alipozindua rasmi hatua y...   uchumi   \n",
       "22203   na nora damian-dar es salaam  tekla (si jina ...  kitaifa   \n",
       "22204   mkuu wa mkoa wa njombe, dk rehema nchimbi wak...   uchumi   \n",
       "22205   mabingwa wa ligi kuu soka tanzania bara, simb...  michezo   \n",
       "22206   wiki iliyopita, nilianza makala haya yanayole...  kitaifa   \n",
       "\n",
       "                                            cleaned_text  \n",
       "22202   alitoa pongezi hizo alipozindua rasmi hatua y...  \n",
       "22203   na nora damian dar es salaam  tekla  si jina ...  \n",
       "22204   mkuu wa mkoa wa njombe  dk rehema nchimbi wak...  \n",
       "22205   mabingwa wa ligi kuu soka tanzania bara  simb...  \n",
       "22206   wiki iliyopita  nilianza makala haya yanayole...  "
      ]
     },
     "execution_count": 117,
     "metadata": {},
     "output_type": "execute_result"
    }
   ],
   "source": [
    "df['cleaned_text'] = df['cleaned_text'].apply(lambda x: remove_emojis(x))\n",
    "df.tail()"
   ]
  },
  {
   "cell_type": "code",
   "execution_count": null,
   "metadata": {},
   "outputs": [],
   "source": []
  },
  {
   "cell_type": "markdown",
   "metadata": {},
   "source": [
    "## removing stopwords"
   ]
  },
  {
   "cell_type": "code",
   "execution_count": 118,
   "metadata": {},
   "outputs": [
    {
     "data": {
      "text/plain": [
       "' bodi ya utalii tanzania  ttb  imesema  itafanya misafara ya kutangaza utalii kwenye miji minne nchini china kati ya juni    hadi juni    mwaka huu misafara hiyo itatembelea miji ya beijing juni     shanghai juni     nanjig juni    na changsha juni    mwenyekiti wa bodi ttb  jaji mstaafu thomas mihayo ameyasema hayo kwenye mkutano na waandishi wa habari jijini dar es salaam  tunafanya jitihada kuhakikisha tunavuna watalii wengi zaidi kutoka china hasa tukizingatia umuhimu wa soko la sekta ya utalii nchini   amesema jaji mihayo novemba      ttb ilifanya ziara kwenye miji ya beijing  shanghai  chengdu  guangzhou na hong kong kutangaza vivutio vya utalii sanjari kuzitangaza safari za ndege za air tanzania ziara hiyo inaelezwa kuzaa matunda ikiwa ni pamoja na watalii zaidi ya     kuja nchini mei mwaka huu kutembelea vivutio vya utalii '"
      ]
     },
     "execution_count": 118,
     "metadata": {},
     "output_type": "execute_result"
    }
   ],
   "source": [
    "# sample text before removing stopwords\n",
    "df['cleaned_text'][0]"
   ]
  },
  {
   "cell_type": "code",
   "execution_count": 119,
   "metadata": {},
   "outputs": [],
   "source": [
    "# defining stopwords list\n",
    "stopwords_swahili = ['akasema', 'alikuwa', 'alisema', 'baada', 'basi','bila', 'cha', 'chini', 'hadi', 'hapo', 'hata','hivyo', 'hiyo', 'huku', 'huo', 'ili',\n",
    "'ilikuwa', 'juu', 'kama', 'karibu', 'katika', 'kila ', 'kima', 'kisha', 'kubwa', 'kutoka', 'kuwa', 'kwa', 'kwamba', 'kwenda', 'kwenye', 'la', 'lakini', 'mara',\n",
    "'mdogo', 'mimi', 'mkubwa', 'mmoja', 'moja', 'muda', 'mwenye', 'na', 'naye', 'ndani', 'ng', 'ni', 'nini', 'pamoja', 'pia', 'sana', 'sasa', 'sauti', 'tafadhali', 'tena',\n",
    "'tu', 'ule', 'vile', 'wa', 'wakati', 'wake', 'walikuwa', 'wao', 'watu', 'wengine', 'wote', 'ya', 'yake', 'yangu', 'yao', 'yeye', 'yule', 'za', 'zaidi', 'zake', 'vya']"
   ]
  },
  {
   "cell_type": "code",
   "execution_count": 120,
   "metadata": {},
   "outputs": [],
   "source": [
    "# function to remove stopwords\n",
    "def swahili_stops(text):\n",
    "    no_stops = \" \".join([word for word in text.split() if word not in stopwords_swahili])\n",
    "    return no_stops"
   ]
  },
  {
   "cell_type": "code",
   "execution_count": 121,
   "metadata": {},
   "outputs": [
    {
     "data": {
      "text/plain": [
       "'bodi utalii tanzania ttb imesema itafanya misafara kutangaza utalii miji minne nchini china kati juni juni mwaka huu misafara itatembelea miji beijing juni shanghai juni nanjig juni changsha juni mwenyekiti bodi ttb jaji mstaafu thomas mihayo ameyasema hayo mkutano waandishi habari jijini dar es salaam tunafanya jitihada kuhakikisha tunavuna watalii wengi china hasa tukizingatia umuhimu soko sekta utalii nchini amesema jaji mihayo novemba ttb ilifanya ziara miji beijing shanghai chengdu guangzhou hong kong kutangaza vivutio utalii sanjari kuzitangaza safari ndege air tanzania ziara inaelezwa kuzaa matunda ikiwa watalii kuja nchini mei mwaka huu kutembelea vivutio utalii'"
      ]
     },
     "execution_count": 121,
     "metadata": {},
     "output_type": "execute_result"
    }
   ],
   "source": [
    "# confirming stopwords removal\n",
    "df['cleaned_text'] = df['cleaned_text'].apply(lambda text : swahili_stops(text))\n",
    "df['cleaned_text'][0]"
   ]
  },
  {
   "cell_type": "markdown",
   "metadata": {},
   "source": [
    "## removing punctuations"
   ]
  },
  {
   "cell_type": "code",
   "execution_count": 122,
   "metadata": {},
   "outputs": [
    {
     "name": "stdout",
     "output_type": "stream",
     "text": [
      "!\"#$%&'()*+,-./:;<=>?@[\\]^_`{|}~\n"
     ]
    }
   ],
   "source": [
    "# punctuation\n",
    "exclude = string.punctuation\n",
    "print(exclude)"
   ]
  },
  {
   "cell_type": "code",
   "execution_count": 123,
   "metadata": {},
   "outputs": [],
   "source": [
    "# remove punctuations\n",
    "def remove_punctuations(text):\n",
    "    \n",
    "    for char in exclude:\n",
    "        text = text.replace(char,'')\n",
    "    return text"
   ]
  },
  {
   "cell_type": "code",
   "execution_count": 124,
   "metadata": {},
   "outputs": [
    {
     "data": {
      "text/html": [
       "<div>\n",
       "<style scoped>\n",
       "    .dataframe tbody tr th:only-of-type {\n",
       "        vertical-align: middle;\n",
       "    }\n",
       "\n",
       "    .dataframe tbody tr th {\n",
       "        vertical-align: top;\n",
       "    }\n",
       "\n",
       "    .dataframe thead th {\n",
       "        text-align: right;\n",
       "    }\n",
       "</style>\n",
       "<table border=\"1\" class=\"dataframe\">\n",
       "  <thead>\n",
       "    <tr style=\"text-align: right;\">\n",
       "      <th></th>\n",
       "      <th>text</th>\n",
       "      <th>label</th>\n",
       "      <th>cleaned_text</th>\n",
       "    </tr>\n",
       "  </thead>\n",
       "  <tbody>\n",
       "    <tr>\n",
       "      <th>0</th>\n",
       "      <td>bodi ya utalii tanzania (ttb) imesema, itafan...</td>\n",
       "      <td>uchumi</td>\n",
       "      <td>bodi utalii tanzania ttb imesema itafanya misa...</td>\n",
       "    </tr>\n",
       "    <tr>\n",
       "      <th>1</th>\n",
       "      <td>pendo fundisha-mbeya rais dk. john magufuri, ...</td>\n",
       "      <td>kitaifa</td>\n",
       "      <td>pendo fundisha mbeya rais dk john magufuri ame...</td>\n",
       "    </tr>\n",
       "    <tr>\n",
       "      <th>2</th>\n",
       "      <td>mwandishi wetu -singida benki ya nmb imetoa ms...</td>\n",
       "      <td>uchumi</td>\n",
       "      <td>mwandishi wetu singida benki nmb imetoa msaada...</td>\n",
       "    </tr>\n",
       "    <tr>\n",
       "      <th>3</th>\n",
       "      <td>timu ya taifa ya tanzania, serengeti boys jan...</td>\n",
       "      <td>michezo</td>\n",
       "      <td>timu taifa tanzania serengeti boys jana ilijiw...</td>\n",
       "    </tr>\n",
       "    <tr>\n",
       "      <th>4</th>\n",
       "      <td>na agatha charles – dar es salaam aliyekuwa k...</td>\n",
       "      <td>kitaifa</td>\n",
       "      <td>agatha charles dar es salaam aliyekuwa katibu ...</td>\n",
       "    </tr>\n",
       "  </tbody>\n",
       "</table>\n",
       "</div>"
      ],
      "text/plain": [
       "                                                text    label  \\\n",
       "0   bodi ya utalii tanzania (ttb) imesema, itafan...   uchumi   \n",
       "1   pendo fundisha-mbeya rais dk. john magufuri, ...  kitaifa   \n",
       "2  mwandishi wetu -singida benki ya nmb imetoa ms...   uchumi   \n",
       "3   timu ya taifa ya tanzania, serengeti boys jan...  michezo   \n",
       "4   na agatha charles – dar es salaam aliyekuwa k...  kitaifa   \n",
       "\n",
       "                                        cleaned_text  \n",
       "0  bodi utalii tanzania ttb imesema itafanya misa...  \n",
       "1  pendo fundisha mbeya rais dk john magufuri ame...  \n",
       "2  mwandishi wetu singida benki nmb imetoa msaada...  \n",
       "3  timu taifa tanzania serengeti boys jana ilijiw...  \n",
       "4  agatha charles dar es salaam aliyekuwa katibu ...  "
      ]
     },
     "execution_count": 124,
     "metadata": {},
     "output_type": "execute_result"
    }
   ],
   "source": [
    "df['cleaned_text'] = df['cleaned_text'].apply(remove_punctuations)\n",
    "df.head()"
   ]
  },
  {
   "cell_type": "code",
   "execution_count": null,
   "metadata": {},
   "outputs": [],
   "source": []
  },
  {
   "cell_type": "markdown",
   "metadata": {},
   "source": [
    "## Tokenization"
   ]
  },
  {
   "cell_type": "code",
   "execution_count": 125,
   "metadata": {},
   "outputs": [
    {
     "data": {
      "text/html": [
       "<div>\n",
       "<style scoped>\n",
       "    .dataframe tbody tr th:only-of-type {\n",
       "        vertical-align: middle;\n",
       "    }\n",
       "\n",
       "    .dataframe tbody tr th {\n",
       "        vertical-align: top;\n",
       "    }\n",
       "\n",
       "    .dataframe thead th {\n",
       "        text-align: right;\n",
       "    }\n",
       "</style>\n",
       "<table border=\"1\" class=\"dataframe\">\n",
       "  <thead>\n",
       "    <tr style=\"text-align: right;\">\n",
       "      <th></th>\n",
       "      <th>text</th>\n",
       "      <th>label</th>\n",
       "      <th>cleaned_text</th>\n",
       "      <th>tokenized_text</th>\n",
       "    </tr>\n",
       "  </thead>\n",
       "  <tbody>\n",
       "    <tr>\n",
       "      <th>0</th>\n",
       "      <td>bodi ya utalii tanzania (ttb) imesema, itafan...</td>\n",
       "      <td>uchumi</td>\n",
       "      <td>bodi utalii tanzania ttb imesema itafanya misa...</td>\n",
       "      <td>[bodi, utalii, tanzania, ttb, imesema, itafany...</td>\n",
       "    </tr>\n",
       "    <tr>\n",
       "      <th>1</th>\n",
       "      <td>pendo fundisha-mbeya rais dk. john magufuri, ...</td>\n",
       "      <td>kitaifa</td>\n",
       "      <td>pendo fundisha mbeya rais dk john magufuri ame...</td>\n",
       "      <td>[pendo, fundisha, mbeya, rais, dk, john, maguf...</td>\n",
       "    </tr>\n",
       "    <tr>\n",
       "      <th>2</th>\n",
       "      <td>mwandishi wetu -singida benki ya nmb imetoa ms...</td>\n",
       "      <td>uchumi</td>\n",
       "      <td>mwandishi wetu singida benki nmb imetoa msaada...</td>\n",
       "      <td>[mwandishi, wetu, singida, benki, nmb, imetoa,...</td>\n",
       "    </tr>\n",
       "    <tr>\n",
       "      <th>3</th>\n",
       "      <td>timu ya taifa ya tanzania, serengeti boys jan...</td>\n",
       "      <td>michezo</td>\n",
       "      <td>timu taifa tanzania serengeti boys jana ilijiw...</td>\n",
       "      <td>[timu, taifa, tanzania, serengeti, boys, jana,...</td>\n",
       "    </tr>\n",
       "    <tr>\n",
       "      <th>4</th>\n",
       "      <td>na agatha charles – dar es salaam aliyekuwa k...</td>\n",
       "      <td>kitaifa</td>\n",
       "      <td>agatha charles dar es salaam aliyekuwa katibu ...</td>\n",
       "      <td>[agatha, charles, dar, es, salaam, aliyekuwa, ...</td>\n",
       "    </tr>\n",
       "  </tbody>\n",
       "</table>\n",
       "</div>"
      ],
      "text/plain": [
       "                                                text    label  \\\n",
       "0   bodi ya utalii tanzania (ttb) imesema, itafan...   uchumi   \n",
       "1   pendo fundisha-mbeya rais dk. john magufuri, ...  kitaifa   \n",
       "2  mwandishi wetu -singida benki ya nmb imetoa ms...   uchumi   \n",
       "3   timu ya taifa ya tanzania, serengeti boys jan...  michezo   \n",
       "4   na agatha charles – dar es salaam aliyekuwa k...  kitaifa   \n",
       "\n",
       "                                        cleaned_text  \\\n",
       "0  bodi utalii tanzania ttb imesema itafanya misa...   \n",
       "1  pendo fundisha mbeya rais dk john magufuri ame...   \n",
       "2  mwandishi wetu singida benki nmb imetoa msaada...   \n",
       "3  timu taifa tanzania serengeti boys jana ilijiw...   \n",
       "4  agatha charles dar es salaam aliyekuwa katibu ...   \n",
       "\n",
       "                                      tokenized_text  \n",
       "0  [bodi, utalii, tanzania, ttb, imesema, itafany...  \n",
       "1  [pendo, fundisha, mbeya, rais, dk, john, maguf...  \n",
       "2  [mwandishi, wetu, singida, benki, nmb, imetoa,...  \n",
       "3  [timu, taifa, tanzania, serengeti, boys, jana,...  \n",
       "4  [agatha, charles, dar, es, salaam, aliyekuwa, ...  "
      ]
     },
     "execution_count": 125,
     "metadata": {},
     "output_type": "execute_result"
    }
   ],
   "source": [
    "df['tokenized_text'] = df['cleaned_text'].apply(lambda x: word_tokenize(x))\n",
    "df.head()"
   ]
  },
  {
   "cell_type": "markdown",
   "metadata": {},
   "source": [
    "## Exploratory Data Analysis: Frequency Distributions"
   ]
  },
  {
   "cell_type": "code",
   "execution_count": 126,
   "metadata": {},
   "outputs": [
    {
     "name": "stdout",
     "output_type": "stream",
     "text": [
      "mwaka: 29388\n",
      "serikali: 24341\n",
      "hilo: 21383\n",
      "nchini: 20488\n",
      "tanzania: 18195\n",
      "mkuu: 17968\n",
      "timu: 17344\n",
      "nchi: 17122\n",
      "rais: 17041\n",
      "huyo: 16783\n"
     ]
    }
   ],
   "source": [
    "from nltk.probability import FreqDist\n",
    "# Calculate word frequencies\n",
    "freq_dist = FreqDist(df[\"tokenized_text\"].explode())\n",
    "\n",
    "# Print the most common words and their frequencies\n",
    "for word, frequency in freq_dist.most_common(10):\n",
    "    print(f\"{word}: {frequency}\")"
   ]
  },
  {
   "cell_type": "code",
   "execution_count": 127,
   "metadata": {},
   "outputs": [
    {
     "data": {
      "image/png": "[encoded data removed]",
      "text/plain": [
       "<Figure size 432x288 with 1 Axes>"
      ]
     },
     "metadata": {
      "needs_background": "light"
     },
     "output_type": "display_data"
    }
   ],
   "source": [
    "from matplotlib.ticker import MaxNLocator\n",
    "def visualize_top_10(freq_dist, title):\n",
    "\n",
    "    # Extract data for plotting\n",
    "    top_10 = list(zip(*freq_dist.most_common(10)))\n",
    "    tokens = top_10[0]\n",
    "    counts = top_10[1]\n",
    "\n",
    "    # Set up plot and plot data\n",
    "    fig, ax = plt.subplots()\n",
    "    ax.bar(tokens, counts)\n",
    "\n",
    "    # Customize plot appearance\n",
    "    ax.set_title(title)\n",
    "    ax.set_ylabel(\"Count\")\n",
    "    ax.yaxis.set_major_locator(MaxNLocator(integer=True))\n",
    "    ax.tick_params(axis=\"x\", rotation=45)\n",
    "    \n",
    "visualize_top_10(freq_dist, \"Top 10 Word Frequency Tokens\")\n"
   ]
  },
  {
   "cell_type": "code",
   "execution_count": 128,
   "metadata": {},
   "outputs": [
    {
     "data": {
      "text/plain": [
       "kitaifa      10155\n",
       "michezo       5970\n",
       "burudani      2185\n",
       "kimataifa     1858\n",
       "uchumi        1259\n",
       "afya           779\n",
       "Name: label, dtype: int64"
      ]
     },
     "execution_count": 128,
     "metadata": {},
     "output_type": "execute_result"
    }
   ],
   "source": [
    "df['label'].value_counts()"
   ]
  },
  {
   "cell_type": "markdown",
   "metadata": {},
   "source": []
  },
  {
   "cell_type": "code",
   "execution_count": 130,
   "metadata": {},
   "outputs": [
    {
     "data": {
      "image/png": "[encoded data removed]",
      "text/plain": [
       "<Figure size 1080x720 with 6 Axes>"
      ]
     },
     "metadata": {
      "needs_background": "light"
     },
     "output_type": "display_data"
    }
   ],
   "source": [
    "def plot_top_10_for_each_label(df, tokenized_column):\n",
    "    # Group the data by labels\n",
    "    grouped_data = df.groupby('label')[tokenized_column]\n",
    "    # Create a figure with subplots for each label\n",
    "    fig, axes = plt.subplots(nrows=2, ncols=3, figsize=(15, 10))\n",
    "    # Iterate over the labels and plot the top 10 words by count\n",
    "    for i, (label, tokens) in enumerate(grouped_data):\n",
    "        # Flatten the list of strings\n",
    "        flattened_tokens = [token for sublist in tokens for token in sublist]\n",
    "        # Count the occurrences of each word\n",
    "        word_counts = pd.Series(flattened_tokens).value_counts()\n",
    "        top_10_words = word_counts.head(10)\n",
    "        # Create a bar plot for the current label\n",
    "        ax = axes[i // 3, i % 3]\n",
    "        ax.bar(top_10_words.index, top_10_words.values)\n",
    "        ax.set_title(f'Top 10 words for label \"{label}\"')\n",
    "        ax.set_xlabel('Words')\n",
    "        ax.set_ylabel('Count')\n",
    "        ax.tick_params(axis='x', rotation=45)\n",
    "    # Adjust the spacing between subplots\n",
    "    plt.tight_layout()\n",
    "    # Show the plots\n",
    "    plt.show()\n",
    "    \n",
    "    \n",
    "plot_top_10_for_each_label(df, 'tokenized_text')\n",
    "\n"
   ]
  },
  {
   "cell_type": "code",
   "execution_count": null,
   "metadata": {},
   "outputs": [],
   "source": []
  },
  {
   "cell_type": "code",
   "execution_count": null,
   "metadata": {},
   "outputs": [],
   "source": []
  },
  {
   "cell_type": "code",
   "execution_count": null,
   "metadata": {},
   "outputs": [],
   "source": []
  }
 ],
 "metadata": {
  "kernelspec": {
   "display_name": "Python 3 (ipykernel)",
   "language": "python",
   "name": "python3"
  },
  "language_info": {
   "codemirror_mode": {
    "name": "ipython",
    "version": 3
   },
   "file_extension": ".py",
   "mimetype": "text/x-python",
   "name": "python",
   "nbconvert_exporter": "python",
   "pygments_lexer": "ipython3",
   "version": "3.9.6"
  }
 },
 "nbformat": 4,
 "nbformat_minor": 2
}
